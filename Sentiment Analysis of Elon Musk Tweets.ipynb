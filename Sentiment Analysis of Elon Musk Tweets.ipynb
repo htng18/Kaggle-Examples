{
 "cells": [
  {
   "cell_type": "code",
   "execution_count": 1,
   "metadata": {
    "collapsed": true
   },
   "outputs": [],
   "source": [
    "# \n",
    "# We undergo an sentiment analysis on the tweets of Elon Musk \n",
    "# from 2010 to 2017 which can be found in the following link:\n",
    "# https://www.kaggle.com/kingburrito666/elon-musk-tweets\n",
    "#\n",
    "# We adop textblob for doing this task. This gives the rating of\n",
    "# polarity from -1 to 1.\n",
    "#\n",
    "# Then, we study the time series of polarity based on ARIMA analysis.\n",
    "#"
   ]
  },
  {
   "cell_type": "code",
   "execution_count": 2,
   "metadata": {
    "collapsed": true
   },
   "outputs": [],
   "source": [
    "import pandas as pd\n",
    "import matplotlib.pyplot as plt\n",
    "%matplotlib inline"
   ]
  },
  {
   "cell_type": "code",
   "execution_count": 3,
   "metadata": {
    "collapsed": true
   },
   "outputs": [],
   "source": [
    "df = pd.read_csv('elonmusk_tweets.csv')"
   ]
  },
  {
   "cell_type": "code",
   "execution_count": 4,
   "metadata": {},
   "outputs": [
    {
     "data": {
      "text/html": [
       "<div>\n",
       "<style>\n",
       "    .dataframe thead tr:only-child th {\n",
       "        text-align: right;\n",
       "    }\n",
       "\n",
       "    .dataframe thead th {\n",
       "        text-align: left;\n",
       "    }\n",
       "\n",
       "    .dataframe tbody tr th {\n",
       "        vertical-align: top;\n",
       "    }\n",
       "</style>\n",
       "<table border=\"1\" class=\"dataframe\">\n",
       "  <thead>\n",
       "    <tr style=\"text-align: right;\">\n",
       "      <th></th>\n",
       "      <th>id</th>\n",
       "      <th>created_at</th>\n",
       "      <th>text</th>\n",
       "    </tr>\n",
       "  </thead>\n",
       "  <tbody>\n",
       "    <tr>\n",
       "      <th>0</th>\n",
       "      <td>849636868052275200</td>\n",
       "      <td>2017-04-05 14:56:29</td>\n",
       "      <td>b'And so the robots spared humanity ... https:...</td>\n",
       "    </tr>\n",
       "    <tr>\n",
       "      <th>1</th>\n",
       "      <td>848988730585096192</td>\n",
       "      <td>2017-04-03 20:01:01</td>\n",
       "      <td>b\"@ForIn2020 @waltmossberg @mims @defcon_5 Exa...</td>\n",
       "    </tr>\n",
       "    <tr>\n",
       "      <th>2</th>\n",
       "      <td>848943072423497728</td>\n",
       "      <td>2017-04-03 16:59:35</td>\n",
       "      <td>b'@waltmossberg @mims @defcon_5 Et tu, Walt?'</td>\n",
       "    </tr>\n",
       "    <tr>\n",
       "      <th>3</th>\n",
       "      <td>848935705057280001</td>\n",
       "      <td>2017-04-03 16:30:19</td>\n",
       "      <td>b'Stormy weather in Shortville ...'</td>\n",
       "    </tr>\n",
       "    <tr>\n",
       "      <th>4</th>\n",
       "      <td>848416049573658624</td>\n",
       "      <td>2017-04-02 06:05:23</td>\n",
       "      <td>b\"@DaveLeeBBC @verge Coal is dying due to nat ...</td>\n",
       "    </tr>\n",
       "  </tbody>\n",
       "</table>\n",
       "</div>"
      ],
      "text/plain": [
       "                   id           created_at  \\\n",
       "0  849636868052275200  2017-04-05 14:56:29   \n",
       "1  848988730585096192  2017-04-03 20:01:01   \n",
       "2  848943072423497728  2017-04-03 16:59:35   \n",
       "3  848935705057280001  2017-04-03 16:30:19   \n",
       "4  848416049573658624  2017-04-02 06:05:23   \n",
       "\n",
       "                                                text  \n",
       "0  b'And so the robots spared humanity ... https:...  \n",
       "1  b\"@ForIn2020 @waltmossberg @mims @defcon_5 Exa...  \n",
       "2      b'@waltmossberg @mims @defcon_5 Et tu, Walt?'  \n",
       "3                b'Stormy weather in Shortville ...'  \n",
       "4  b\"@DaveLeeBBC @verge Coal is dying due to nat ...  "
      ]
     },
     "execution_count": 4,
     "metadata": {},
     "output_type": "execute_result"
    }
   ],
   "source": [
    "df.head()"
   ]
  },
  {
   "cell_type": "code",
   "execution_count": 5,
   "metadata": {},
   "outputs": [
    {
     "name": "stdout",
     "output_type": "stream",
     "text": [
      "<class 'pandas.core.frame.DataFrame'>\n",
      "RangeIndex: 2819 entries, 0 to 2818\n",
      "Data columns (total 3 columns):\n",
      "id            2819 non-null int64\n",
      "created_at    2819 non-null object\n",
      "text          2819 non-null object\n",
      "dtypes: int64(1), object(2)\n",
      "memory usage: 66.1+ KB\n"
     ]
    }
   ],
   "source": [
    "df.info()"
   ]
  },
  {
   "cell_type": "markdown",
   "metadata": {},
   "source": [
    "# Text Preprocessing"
   ]
  },
  {
   "cell_type": "code",
   "execution_count": 6,
   "metadata": {
    "collapsed": true
   },
   "outputs": [],
   "source": [
    "df['Clean'] =  df['text'].str.replace(r'(^b|@\\w+|\\W|https[\\W\\w]+|\\d)',' ')"
   ]
  },
  {
   "cell_type": "code",
   "execution_count": 7,
   "metadata": {},
   "outputs": [
    {
     "data": {
      "text/html": [
       "<div>\n",
       "<style>\n",
       "    .dataframe thead tr:only-child th {\n",
       "        text-align: right;\n",
       "    }\n",
       "\n",
       "    .dataframe thead th {\n",
       "        text-align: left;\n",
       "    }\n",
       "\n",
       "    .dataframe tbody tr th {\n",
       "        vertical-align: top;\n",
       "    }\n",
       "</style>\n",
       "<table border=\"1\" class=\"dataframe\">\n",
       "  <thead>\n",
       "    <tr style=\"text-align: right;\">\n",
       "      <th></th>\n",
       "      <th>id</th>\n",
       "      <th>created_at</th>\n",
       "      <th>text</th>\n",
       "      <th>Clean</th>\n",
       "    </tr>\n",
       "  </thead>\n",
       "  <tbody>\n",
       "    <tr>\n",
       "      <th>0</th>\n",
       "      <td>849636868052275200</td>\n",
       "      <td>2017-04-05 14:56:29</td>\n",
       "      <td>b'And so the robots spared humanity ... https:...</td>\n",
       "      <td>And so the robots spared humanity</td>\n",
       "    </tr>\n",
       "    <tr>\n",
       "      <th>1</th>\n",
       "      <td>848988730585096192</td>\n",
       "      <td>2017-04-03 20:01:01</td>\n",
       "      <td>b\"@ForIn2020 @waltmossberg @mims @defcon_5 Exa...</td>\n",
       "      <td>Exactly  Tesla is absurdly overvalue...</td>\n",
       "    </tr>\n",
       "    <tr>\n",
       "      <th>2</th>\n",
       "      <td>848943072423497728</td>\n",
       "      <td>2017-04-03 16:59:35</td>\n",
       "      <td>b'@waltmossberg @mims @defcon_5 Et tu, Walt?'</td>\n",
       "      <td>Et tu  Walt</td>\n",
       "    </tr>\n",
       "    <tr>\n",
       "      <th>3</th>\n",
       "      <td>848935705057280001</td>\n",
       "      <td>2017-04-03 16:30:19</td>\n",
       "      <td>b'Stormy weather in Shortville ...'</td>\n",
       "      <td>Stormy weather in Shortville</td>\n",
       "    </tr>\n",
       "    <tr>\n",
       "      <th>4</th>\n",
       "      <td>848416049573658624</td>\n",
       "      <td>2017-04-02 06:05:23</td>\n",
       "      <td>b\"@DaveLeeBBC @verge Coal is dying due to nat ...</td>\n",
       "      <td>Coal is dying due to nat gas fracking  I...</td>\n",
       "    </tr>\n",
       "  </tbody>\n",
       "</table>\n",
       "</div>"
      ],
      "text/plain": [
       "                   id           created_at  \\\n",
       "0  849636868052275200  2017-04-05 14:56:29   \n",
       "1  848988730585096192  2017-04-03 20:01:01   \n",
       "2  848943072423497728  2017-04-03 16:59:35   \n",
       "3  848935705057280001  2017-04-03 16:30:19   \n",
       "4  848416049573658624  2017-04-02 06:05:23   \n",
       "\n",
       "                                                text  \\\n",
       "0  b'And so the robots spared humanity ... https:...   \n",
       "1  b\"@ForIn2020 @waltmossberg @mims @defcon_5 Exa...   \n",
       "2      b'@waltmossberg @mims @defcon_5 Et tu, Walt?'   \n",
       "3                b'Stormy weather in Shortville ...'   \n",
       "4  b\"@DaveLeeBBC @verge Coal is dying due to nat ...   \n",
       "\n",
       "                                               Clean  \n",
       "0            And so the robots spared humanity        \n",
       "1            Exactly  Tesla is absurdly overvalue...  \n",
       "2                                      Et tu  Walt    \n",
       "3                  Stormy weather in Shortville       \n",
       "4        Coal is dying due to nat gas fracking  I...  "
      ]
     },
     "execution_count": 7,
     "metadata": {},
     "output_type": "execute_result"
    }
   ],
   "source": [
    "df.head()"
   ]
  },
  {
   "cell_type": "code",
   "execution_count": 8,
   "metadata": {
    "collapsed": true
   },
   "outputs": [],
   "source": [
    "from nltk.corpus import stopwords"
   ]
  },
  {
   "cell_type": "code",
   "execution_count": 9,
   "metadata": {
    "collapsed": true
   },
   "outputs": [],
   "source": [
    "def removenonStopWord(w):\n",
    "    word = w.lower().split(\" \")\n",
    "    nonstop = list(set(word).difference(stopwords.words('english')))\n",
    "    nonstop = \" \".join(nonstop)\n",
    "    return nonstop"
   ]
  },
  {
   "cell_type": "code",
   "execution_count": 10,
   "metadata": {
    "collapsed": true
   },
   "outputs": [],
   "source": [
    "df['Clean'] = df['Clean'].apply(removenonStopWord)"
   ]
  },
  {
   "cell_type": "code",
   "execution_count": 11,
   "metadata": {},
   "outputs": [
    {
     "data": {
      "text/html": [
       "<div>\n",
       "<style>\n",
       "    .dataframe thead tr:only-child th {\n",
       "        text-align: right;\n",
       "    }\n",
       "\n",
       "    .dataframe thead th {\n",
       "        text-align: left;\n",
       "    }\n",
       "\n",
       "    .dataframe tbody tr th {\n",
       "        vertical-align: top;\n",
       "    }\n",
       "</style>\n",
       "<table border=\"1\" class=\"dataframe\">\n",
       "  <thead>\n",
       "    <tr style=\"text-align: right;\">\n",
       "      <th></th>\n",
       "      <th>id</th>\n",
       "      <th>created_at</th>\n",
       "      <th>text</th>\n",
       "      <th>Clean</th>\n",
       "    </tr>\n",
       "  </thead>\n",
       "  <tbody>\n",
       "    <tr>\n",
       "      <th>0</th>\n",
       "      <td>849636868052275200</td>\n",
       "      <td>2017-04-05 14:56:29</td>\n",
       "      <td>b'And so the robots spared humanity ... https:...</td>\n",
       "      <td>humanity spared robots</td>\n",
       "    </tr>\n",
       "    <tr>\n",
       "      <th>1</th>\n",
       "      <td>848988730585096192</td>\n",
       "      <td>2017-04-03 20:01:01</td>\n",
       "      <td>b\"@ForIn2020 @waltmossberg @mims @defcon_5 Exa...</td>\n",
       "      <td>exactly x tesla past xa overvalued based irr ...</td>\n",
       "    </tr>\n",
       "    <tr>\n",
       "      <th>2</th>\n",
       "      <td>848943072423497728</td>\n",
       "      <td>2017-04-03 16:59:35</td>\n",
       "      <td>b'@waltmossberg @mims @defcon_5 Et tu, Walt?'</td>\n",
       "      <td>walt et tu</td>\n",
       "    </tr>\n",
       "    <tr>\n",
       "      <th>3</th>\n",
       "      <td>848935705057280001</td>\n",
       "      <td>2017-04-03 16:30:19</td>\n",
       "      <td>b'Stormy weather in Shortville ...'</td>\n",
       "      <td>stormy shortville weather</td>\n",
       "    </tr>\n",
       "    <tr>\n",
       "      <th>4</th>\n",
       "      <td>848416049573658624</td>\n",
       "      <td>2017-04-02 06:05:23</td>\n",
       "      <td>b\"@DaveLeeBBC @verge Coal is dying due to nat ...</td>\n",
       "      <td>gas dead nat basically due dying coal fracking</td>\n",
       "    </tr>\n",
       "  </tbody>\n",
       "</table>\n",
       "</div>"
      ],
      "text/plain": [
       "                   id           created_at  \\\n",
       "0  849636868052275200  2017-04-05 14:56:29   \n",
       "1  848988730585096192  2017-04-03 20:01:01   \n",
       "2  848943072423497728  2017-04-03 16:59:35   \n",
       "3  848935705057280001  2017-04-03 16:30:19   \n",
       "4  848416049573658624  2017-04-02 06:05:23   \n",
       "\n",
       "                                                text  \\\n",
       "0  b'And so the robots spared humanity ... https:...   \n",
       "1  b\"@ForIn2020 @waltmossberg @mims @defcon_5 Exa...   \n",
       "2      b'@waltmossberg @mims @defcon_5 Et tu, Walt?'   \n",
       "3                b'Stormy weather in Shortville ...'   \n",
       "4  b\"@DaveLeeBBC @verge Coal is dying due to nat ...   \n",
       "\n",
       "                                               Clean  \n",
       "0                             humanity spared robots  \n",
       "1   exactly x tesla past xa overvalued based irr ...  \n",
       "2                                         walt et tu  \n",
       "3                          stormy shortville weather  \n",
       "4     gas dead nat basically due dying coal fracking  "
      ]
     },
     "execution_count": 11,
     "metadata": {},
     "output_type": "execute_result"
    }
   ],
   "source": [
    "df.head()"
   ]
  },
  {
   "cell_type": "markdown",
   "metadata": {},
   "source": [
    "# Sentiment Analysis"
   ]
  },
  {
   "cell_type": "code",
   "execution_count": 12,
   "metadata": {
    "collapsed": true
   },
   "outputs": [],
   "source": [
    "# We use textblob to evaluate the polarity of the text."
   ]
  },
  {
   "cell_type": "code",
   "execution_count": 13,
   "metadata": {
    "collapsed": true
   },
   "outputs": [],
   "source": [
    "from textblob import TextBlob"
   ]
  },
  {
   "cell_type": "code",
   "execution_count": 14,
   "metadata": {
    "collapsed": true
   },
   "outputs": [],
   "source": [
    "def sentiment(w):\n",
    "    TextBlob(w)\n",
    "    return TextBlob(w).sentiment.polarity"
   ]
  },
  {
   "cell_type": "code",
   "execution_count": 15,
   "metadata": {
    "collapsed": true
   },
   "outputs": [],
   "source": [
    "df['Sentiment'] = df['Clean'].apply(sentiment)"
   ]
  },
  {
   "cell_type": "code",
   "execution_count": 16,
   "metadata": {
    "collapsed": true
   },
   "outputs": [],
   "source": [
    "df = df.drop(['id'],axis=1)"
   ]
  },
  {
   "cell_type": "code",
   "execution_count": 17,
   "metadata": {
    "collapsed": true
   },
   "outputs": [],
   "source": [
    "df['created_at'] = pd.to_datetime(df['created_at'])"
   ]
  },
  {
   "cell_type": "code",
   "execution_count": 18,
   "metadata": {
    "collapsed": true
   },
   "outputs": [],
   "source": [
    "df = df.set_index('created_at').sort_index()"
   ]
  },
  {
   "cell_type": "code",
   "execution_count": 19,
   "metadata": {},
   "outputs": [
    {
     "data": {
      "text/html": [
       "<div>\n",
       "<style>\n",
       "    .dataframe thead tr:only-child th {\n",
       "        text-align: right;\n",
       "    }\n",
       "\n",
       "    .dataframe thead th {\n",
       "        text-align: left;\n",
       "    }\n",
       "\n",
       "    .dataframe tbody tr th {\n",
       "        vertical-align: top;\n",
       "    }\n",
       "</style>\n",
       "<table border=\"1\" class=\"dataframe\">\n",
       "  <thead>\n",
       "    <tr style=\"text-align: right;\">\n",
       "      <th></th>\n",
       "      <th>text</th>\n",
       "      <th>Clean</th>\n",
       "      <th>Sentiment</th>\n",
       "    </tr>\n",
       "    <tr>\n",
       "      <th>created_at</th>\n",
       "      <th></th>\n",
       "      <th></th>\n",
       "      <th></th>\n",
       "    </tr>\n",
       "  </thead>\n",
       "  <tbody>\n",
       "    <tr>\n",
       "      <th>2010-06-04 18:31:57</th>\n",
       "      <td>b'Please ignore prior tweets, as that was some...</td>\n",
       "      <td>tweets prior please someone pretending actual...</td>\n",
       "      <td>0.00</td>\n",
       "    </tr>\n",
       "    <tr>\n",
       "      <th>2011-12-01 09:55:11</th>\n",
       "      <td>b\"Went to Iceland on Sat to ride bumper cars o...</td>\n",
       "      <td>iceland awesome bumper http ride went family ...</td>\n",
       "      <td>0.65</td>\n",
       "    </tr>\n",
       "    <tr>\n",
       "      <th>2011-12-01 10:29:04</th>\n",
       "      <td>b'I made the volume on the Model S http://t.co...</td>\n",
       "      <td>work go miniature need stonehenge wmcnt http ...</td>\n",
       "      <td>0.00</td>\n",
       "    </tr>\n",
       "    <tr>\n",
       "      <th>2011-12-03 08:20:28</th>\n",
       "      <td>b'Great Voltaire quote, arguably better than T...</td>\n",
       "      <td>quote great better hearing voltaire true argu...</td>\n",
       "      <td>0.55</td>\n",
       "    </tr>\n",
       "    <tr>\n",
       "      <th>2011-12-03 08:22:07</th>\n",
       "      <td>b'That was a total non sequitur btw'</td>\n",
       "      <td>total btw sequitur non</td>\n",
       "      <td>0.00</td>\n",
       "    </tr>\n",
       "  </tbody>\n",
       "</table>\n",
       "</div>"
      ],
      "text/plain": [
       "                                                                  text  \\\n",
       "created_at                                                               \n",
       "2010-06-04 18:31:57  b'Please ignore prior tweets, as that was some...   \n",
       "2011-12-01 09:55:11  b\"Went to Iceland on Sat to ride bumper cars o...   \n",
       "2011-12-01 10:29:04  b'I made the volume on the Model S http://t.co...   \n",
       "2011-12-03 08:20:28  b'Great Voltaire quote, arguably better than T...   \n",
       "2011-12-03 08:22:07               b'That was a total non sequitur btw'   \n",
       "\n",
       "                                                                 Clean  \\\n",
       "created_at                                                               \n",
       "2010-06-04 18:31:57   tweets prior please someone pretending actual...   \n",
       "2011-12-01 09:55:11   iceland awesome bumper http ride went family ...   \n",
       "2011-12-01 10:29:04   work go miniature need stonehenge wmcnt http ...   \n",
       "2011-12-03 08:20:28   quote great better hearing voltaire true argu...   \n",
       "2011-12-03 08:22:07                             total btw sequitur non   \n",
       "\n",
       "                     Sentiment  \n",
       "created_at                      \n",
       "2010-06-04 18:31:57       0.00  \n",
       "2011-12-01 09:55:11       0.65  \n",
       "2011-12-01 10:29:04       0.00  \n",
       "2011-12-03 08:20:28       0.55  \n",
       "2011-12-03 08:22:07       0.00  "
      ]
     },
     "execution_count": 19,
     "metadata": {},
     "output_type": "execute_result"
    }
   ],
   "source": [
    "df.head()"
   ]
  },
  {
   "cell_type": "code",
   "execution_count": 20,
   "metadata": {
    "collapsed": true
   },
   "outputs": [],
   "source": [
    "sent = df[['Sentiment']]"
   ]
  },
  {
   "cell_type": "code",
   "execution_count": 21,
   "metadata": {
    "collapsed": true
   },
   "outputs": [],
   "source": [
    "sent = sent.resample('D').mean()"
   ]
  },
  {
   "cell_type": "code",
   "execution_count": 22,
   "metadata": {
    "collapsed": true
   },
   "outputs": [],
   "source": [
    "sent = sent.dropna()"
   ]
  },
  {
   "cell_type": "code",
   "execution_count": 23,
   "metadata": {},
   "outputs": [
    {
     "data": {
      "text/html": [
       "<div>\n",
       "<style>\n",
       "    .dataframe thead tr:only-child th {\n",
       "        text-align: right;\n",
       "    }\n",
       "\n",
       "    .dataframe thead th {\n",
       "        text-align: left;\n",
       "    }\n",
       "\n",
       "    .dataframe tbody tr th {\n",
       "        vertical-align: top;\n",
       "    }\n",
       "</style>\n",
       "<table border=\"1\" class=\"dataframe\">\n",
       "  <thead>\n",
       "    <tr style=\"text-align: right;\">\n",
       "      <th></th>\n",
       "      <th>Sentiment</th>\n",
       "    </tr>\n",
       "  </thead>\n",
       "  <tbody>\n",
       "    <tr>\n",
       "      <th>count</th>\n",
       "      <td>898.000000</td>\n",
       "    </tr>\n",
       "    <tr>\n",
       "      <th>mean</th>\n",
       "      <td>0.142645</td>\n",
       "    </tr>\n",
       "    <tr>\n",
       "      <th>std</th>\n",
       "      <td>0.212728</td>\n",
       "    </tr>\n",
       "    <tr>\n",
       "      <th>min</th>\n",
       "      <td>-0.600000</td>\n",
       "    </tr>\n",
       "    <tr>\n",
       "      <th>25%</th>\n",
       "      <td>0.000000</td>\n",
       "    </tr>\n",
       "    <tr>\n",
       "      <th>50%</th>\n",
       "      <td>0.100000</td>\n",
       "    </tr>\n",
       "    <tr>\n",
       "      <th>75%</th>\n",
       "      <td>0.239268</td>\n",
       "    </tr>\n",
       "    <tr>\n",
       "      <th>max</th>\n",
       "      <td>1.000000</td>\n",
       "    </tr>\n",
       "  </tbody>\n",
       "</table>\n",
       "</div>"
      ],
      "text/plain": [
       "        Sentiment\n",
       "count  898.000000\n",
       "mean     0.142645\n",
       "std      0.212728\n",
       "min     -0.600000\n",
       "25%      0.000000\n",
       "50%      0.100000\n",
       "75%      0.239268\n",
       "max      1.000000"
      ]
     },
     "execution_count": 23,
     "metadata": {},
     "output_type": "execute_result"
    }
   ],
   "source": [
    "sent.describe()"
   ]
  },
  {
   "cell_type": "markdown",
   "metadata": {},
   "source": [
    "# Time Series Analysis"
   ]
  },
  {
   "cell_type": "code",
   "execution_count": 24,
   "metadata": {},
   "outputs": [
    {
     "name": "stderr",
     "output_type": "stream",
     "text": [
      "C:\\Users\\HoT\\Anaconda3_2\\lib\\site-packages\\statsmodels\\compat\\pandas.py:56: FutureWarning: The pandas.core.datetools module is deprecated and will be removed in a future version. Please use the pandas.tseries module instead.\n",
      "  from pandas.core import datetools\n"
     ]
    }
   ],
   "source": [
    "from statsmodels.tsa.seasonal import seasonal_decompose"
   ]
  },
  {
   "cell_type": "code",
   "execution_count": 25,
   "metadata": {
    "collapsed": true
   },
   "outputs": [],
   "source": [
    "freq=2\n",
    "result=seasonal_decompose(sent.dropna(),freq=freq)"
   ]
  },
  {
   "cell_type": "code",
   "execution_count": 26,
   "metadata": {
    "collapsed": true
   },
   "outputs": [],
   "source": [
    "year = [str(2012+i) for i in range(5)]"
   ]
  },
  {
   "cell_type": "code",
   "execution_count": 27,
   "metadata": {},
   "outputs": [
    {
     "data": {
      "image/png": "[encoded data removed]",
      "text/plain": [
       "<matplotlib.figure.Figure at 0x25b15326cc0>"
      ]
     },
     "metadata": {},
     "output_type": "display_data"
    },
    {
     "data": {
      "image/png": "[encoded data removed]",
      "text/plain": [
       "<matplotlib.figure.Figure at 0x25b152f59b0>"
      ]
     },
     "metadata": {},
     "output_type": "display_data"
    },
    {
     "data": {
      "image/png": "[encoded data removed]",
      "text/plain": [
       "<matplotlib.figure.Figure at 0x25b152c3f28>"
      ]
     },
     "metadata": {},
     "output_type": "display_data"
    },
    {
     "data": {
      "image/png": "[encoded data removed]",
      "text/plain": [
       "<matplotlib.figure.Figure at 0x25b15290828>"
      ]
     },
     "metadata": {},
     "output_type": "display_data"
    },
    {
     "data": {
      "image/png": "[encoded data removed]",
      "text/plain": [
       "<matplotlib.figure.Figure at 0x25b152d8828>"
      ]
     },
     "metadata": {},
     "output_type": "display_data"
    }
   ],
   "source": [
    "for i in year:\n",
    "    ax = result.trend[i].plot()\n",
    "    ax.legend([i])\n",
    "    ax.set_ylabel('Sentiment')"
   ]
  },
  {
   "cell_type": "code",
   "execution_count": 28,
   "metadata": {
    "collapsed": true
   },
   "outputs": [],
   "source": [
    "trend = result.trend.dropna()"
   ]
  },
  {
   "cell_type": "code",
   "execution_count": 29,
   "metadata": {
    "collapsed": true
   },
   "outputs": [],
   "source": [
    "# Autocorrelation"
   ]
  },
  {
   "cell_type": "code",
   "execution_count": 30,
   "metadata": {},
   "outputs": [
    {
     "data": {
      "image/png": "[encoded data removed]",
      "text/plain": [
       "<matplotlib.figure.Figure at 0x25b15251b70>"
      ]
     },
     "metadata": {},
     "output_type": "display_data"
    }
   ],
   "source": [
    "import statsmodels.api as sm\n",
    "fig = plt.figure(figsize=(10,8))\n",
    "ax1 = fig.add_subplot(211)\n",
    "fig = sm.graphics.tsa.plot_acf(trend, lags=40, ax=ax1)\n",
    "ax2 = fig.add_subplot(212)\n",
    "fig = sm.graphics.tsa.plot_pacf(trend, lags=40, ax=ax2)"
   ]
  },
  {
   "cell_type": "code",
   "execution_count": 31,
   "metadata": {
    "collapsed": true
   },
   "outputs": [],
   "source": [
    "# We choose the ARIMA model to describe the time series"
   ]
  },
  {
   "cell_type": "code",
   "execution_count": 32,
   "metadata": {},
   "outputs": [
    {
     "name": "stdout",
     "output_type": "stream",
     "text": [
      "(p,d,q) = ( 0 0 0 )\n",
      "-1104.2451217627336 -1094.6492409367836 -1100.578643019295\n",
      "(p,d,q) = ( 0 0 1 )\n",
      "-2107.559586784881 -2093.165765545956 -2102.059868669723\n",
      "(p,d,q) = ( 0 0 2 )\n",
      "Error\n",
      "(p,d,q) = ( 0 0 3 )\n",
      "Error\n",
      "(p,d,q) = ( 0 0 4 )\n",
      "Error\n",
      "(p,d,q) = ( 1 0 0 )\n",
      "-1751.690952537209 -1737.297131298284 -1746.191234422051\n",
      "(p,d,q) = ( 1 0 1 )\n"
     ]
    },
    {
     "name": "stderr",
     "output_type": "stream",
     "text": [
      "C:\\Users\\HoT\\Anaconda3_2\\lib\\site-packages\\statsmodels\\tsa\\kalmanf\\kalmanfilter.py:646: FutureWarning: Conversion of the second argument of issubdtype from `float` to `np.floating` is deprecated. In future, it will be treated as `np.float64 == np.dtype(float).type`.\n",
      "  if issubdtype(paramsdtype, float):\n",
      "C:\\Users\\HoT\\Anaconda3_2\\lib\\site-packages\\statsmodels\\tsa\\kalmanf\\kalmanfilter.py:650: FutureWarning: Conversion of the second argument of issubdtype from `complex` to `np.complexfloating` is deprecated. In future, it will be treated as `np.complex128 == np.dtype(complex).type`.\n",
      "  elif issubdtype(paramsdtype, complex):\n"
     ]
    },
    {
     "name": "stdout",
     "output_type": "stream",
     "text": [
      "Error\n",
      "(p,d,q) = ( 1 0 2 )\n",
      "Error\n",
      "(p,d,q) = ( 1 0 3 )\n",
      "Error\n",
      "(p,d,q) = ( 1 0 4 )\n",
      "Error\n",
      "(p,d,q) = ( 2 0 0 )\n",
      "-1949.7383251670403 -1930.5465635151406 -1942.4053676801632\n",
      "(p,d,q) = ( 2 0 1 )\n",
      "Error\n",
      "(p,d,q) = ( 2 0 2 )\n",
      "Error\n",
      "(p,d,q) = ( 2 0 3 )\n",
      "Error\n",
      "(p,d,q) = ( 2 0 4 )\n",
      "Error\n",
      "(p,d,q) = ( 3 0 0 )\n",
      "-2103.17381454393 -2079.1841124790553 -2094.0076176853336\n",
      "(p,d,q) = ( 3 0 1 )\n",
      "Error\n",
      "(p,d,q) = ( 3 0 2 )\n",
      "Error\n",
      "(p,d,q) = ( 3 0 3 )\n",
      "Error\n",
      "(p,d,q) = ( 3 0 4 )\n",
      "Error\n",
      "(p,d,q) = ( 4 0 0 )\n",
      "-2199.398962437545 -2170.6113199596953 -2188.399526207229\n",
      "(p,d,q) = ( 4 0 1 )\n",
      "Error\n",
      "(p,d,q) = ( 4 0 2 )\n",
      "Error\n",
      "(p,d,q) = ( 4 0 3 )\n",
      "Error\n",
      "(p,d,q) = ( 4 0 4 )\n",
      "Error\n"
     ]
    }
   ],
   "source": [
    "for j in range(0,5):\n",
    "    for k in range(0,5):\n",
    "        print(\"(p,d,q) = (\",j,0,k,\")\")\n",
    "        try:\n",
    "            arma = sm.tsa.ARMA(trend, (j,k)).fit(disp=False)\n",
    "            print(arma.aic, arma.bic, arma.hqic)\n",
    "        except:\n",
    "            print('Error')"
   ]
  },
  {
   "cell_type": "code",
   "execution_count": 33,
   "metadata": {},
   "outputs": [
    {
     "name": "stdout",
     "output_type": "stream",
     "text": [
      "(p,d,q) = ( 0 1 0 )\n",
      "-1616.501200023417 -1606.9075525868673 -1612.8353784122046\n",
      "(p,d,q) = ( 0 1 1 )\n",
      "-2195.8973330346394 -2181.506861879815 -2190.398600617821\n",
      "(p,d,q) = ( 0 1 2 )\n"
     ]
    },
    {
     "name": "stderr",
     "output_type": "stream",
     "text": [
      "C:\\Users\\HoT\\Anaconda3_2\\lib\\site-packages\\statsmodels\\tsa\\kalmanf\\kalmanfilter.py:646: FutureWarning: Conversion of the second argument of issubdtype from `float` to `np.floating` is deprecated. In future, it will be treated as `np.float64 == np.dtype(float).type`.\n",
      "  if issubdtype(paramsdtype, float):\n",
      "C:\\Users\\HoT\\Anaconda3_2\\lib\\site-packages\\statsmodels\\tsa\\kalmanf\\kalmanfilter.py:650: FutureWarning: Conversion of the second argument of issubdtype from `complex` to `np.complexfloating` is deprecated. In future, it will be treated as `np.complex128 == np.dtype(complex).type`.\n",
      "  elif issubdtype(paramsdtype, complex):\n"
     ]
    },
    {
     "name": "stdout",
     "output_type": "stream",
     "text": [
      "-2205.619371003157 -2186.432076130058 -2198.2877277807324\n",
      "(p,d,q) = ( 0 1 3 )\n",
      "Error\n",
      "(p,d,q) = ( 0 1 4 )\n",
      "Error\n",
      "(p,d,q) = ( 1 1 0 )\n",
      "-1669.0498829391868 -1654.6594117843622 -1663.5511505223685\n",
      "(p,d,q) = ( 1 1 1 )\n",
      "-2195.0494383017462 -2175.862143428647 -2187.7177950793216\n",
      "(p,d,q) = ( 1 1 2 )\n",
      "Error\n",
      "(p,d,q) = ( 1 1 3 )\n",
      "Error\n",
      "(p,d,q) = ( 1 1 4 )\n",
      "Error\n",
      "(p,d,q) = ( 2 1 0 )\n",
      "-2006.0691208514386 -1986.881825978339 -1998.7374776290142\n",
      "(p,d,q) = ( 2 1 1 )\n",
      "-2406.498023330359 -2382.513904738985 -2397.3334693023285\n",
      "(p,d,q) = ( 2 1 2 )\n",
      "Error\n",
      "(p,d,q) = ( 2 1 3 )\n",
      "Error\n",
      "(p,d,q) = ( 2 1 4 )\n",
      "Error\n",
      "(p,d,q) = ( 3 1 0 )\n",
      "-2035.5707375145607 -2011.5866189231865 -2026.4061834865302\n",
      "(p,d,q) = ( 3 1 1 )\n",
      "-2404.600217807289 -2375.81927549764 -2393.6027529736525\n",
      "(p,d,q) = ( 3 1 2 )\n",
      "Error\n",
      "(p,d,q) = ( 3 1 3 )\n",
      "Error\n",
      "(p,d,q) = ( 3 1 4 )\n",
      "Error\n",
      "(p,d,q) = ( 4 1 0 )\n",
      "-2166.1567889131825 -2137.3758466035333 -2155.159324079546\n",
      "(p,d,q) = ( 4 1 1 )\n",
      "-2479.0542984155604 -2445.4765323876363 -2466.2239227763175\n",
      "(p,d,q) = ( 4 1 2 )\n",
      "Error\n",
      "(p,d,q) = ( 4 1 3 )\n",
      "Error\n",
      "(p,d,q) = ( 4 1 4 )\n",
      "Error\n",
      "(p,d,q) = ( 0 2 0 )\n",
      "-800.0018707386648 -790.4104591883178 -796.3367071024701\n",
      "(p,d,q) = ( 0 2 1 )\n",
      "-1604.8943964348132 -1590.5072791092925 -1599.3966509805211\n",
      "(p,d,q) = ( 0 2 2 )\n",
      "Error\n",
      "(p,d,q) = ( 0 2 3 )\n",
      "Error\n",
      "(p,d,q) = ( 0 2 4 )\n",
      "Error\n",
      "(p,d,q) = ( 1 2 0 )\n",
      "-961.2433257595985 -946.856208434078 -955.7455803053064\n",
      "(p,d,q) = ( 1 2 1 )\n",
      "Error\n",
      "(p,d,q) = ( 1 2 2 )\n",
      "Error\n",
      "(p,d,q) = ( 1 2 3 )\n",
      "Error\n",
      "(p,d,q) = ( 1 2 4 )\n",
      "Error\n",
      "(p,d,q) = ( 2 2 0 )\n",
      "-1412.7083252843422 -1393.525502183648 -1405.3779980119527\n",
      "(p,d,q) = ( 2 2 1 )\n",
      "Error\n",
      "(p,d,q) = ( 2 2 2 )\n",
      "Error\n",
      "(p,d,q) = ( 2 2 3 )\n",
      "Error\n",
      "(p,d,q) = ( 2 2 4 )\n",
      "Error\n",
      "(p,d,q) = ( 3 2 0 )\n",
      "-1504.1693483871122 -1480.1908195112446 -1495.0064392966253\n",
      "(p,d,q) = ( 3 2 1 )\n",
      "Error\n",
      "(p,d,q) = ( 3 2 2 )\n",
      "Error\n",
      "(p,d,q) = ( 3 2 3 )\n",
      "Error\n",
      "(p,d,q) = ( 3 2 4 )\n",
      "Error\n",
      "(p,d,q) = ( 4 2 0 )\n",
      "-1707.4518408106474 -1678.6776061596063 -1696.456349902063\n",
      "(p,d,q) = ( 4 2 1 )\n",
      "Error\n",
      "(p,d,q) = ( 4 2 2 )\n",
      "Error\n",
      "(p,d,q) = ( 4 2 3 )\n",
      "Error\n",
      "(p,d,q) = ( 4 2 4 )\n",
      "Error\n",
      "(p,d,q) = ( 0 3 0 )\n",
      "-620.892599563555 -611.303426401802 -617.228094747212\n",
      "(p,d,q) = ( 0 3 1 )\n",
      "-1598.2322955035102 -1583.8485357608806 -1592.7355382789958\n",
      "(p,d,q) = ( 0 3 2 )\n",
      "Error\n",
      "(p,d,q) = ( 0 3 3 )\n",
      "Error\n",
      "(p,d,q) = ( 0 3 4 )\n",
      "Error\n",
      "(p,d,q) = ( 1 3 0 )\n",
      "-1027.7811201979648 -1013.3973604553353 -1022.2843629734505\n",
      "(p,d,q) = ( 1 3 1 )\n",
      "Error\n",
      "(p,d,q) = ( 1 3 2 )\n",
      "Error\n",
      "(p,d,q) = ( 1 3 3 )\n",
      "Error\n",
      "(p,d,q) = ( 1 3 4 )\n",
      "Error\n",
      "(p,d,q) = ( 2 3 0 )\n",
      "-1716.4494210038952 -1697.2710746803891 -1709.1204113712092\n",
      "(p,d,q) = ( 2 3 1 )\n",
      "-2271.225576055594 -2247.2526431512115 -2262.0643140147367\n",
      "(p,d,q) = ( 2 3 2 )\n",
      "-2275.5161549004447 -2246.7486354151856 -2264.522640451416\n",
      "(p,d,q) = ( 2 3 3 )\n"
     ]
    },
    {
     "name": "stderr",
     "output_type": "stream",
     "text": [
      "C:\\Users\\HoT\\Anaconda3_2\\lib\\site-packages\\statsmodels\\base\\model.py:473: HessianInversionWarning: Inverting hessian failed, no bse or cov_params available\n",
      "  'available', HessianInversionWarning)\n",
      "C:\\Users\\HoT\\Anaconda3_2\\lib\\site-packages\\statsmodels\\base\\model.py:496: ConvergenceWarning: Maximum Likelihood optimization failed to converge. Check mle_retvals\n",
      "  \"Check mle_retvals\", ConvergenceWarning)\n"
     ]
    },
    {
     "name": "stdout",
     "output_type": "stream",
     "text": [
      "-2330.639270436936 -2297.0771643708003 -2317.813503579736\n",
      "(p,d,q) = ( 2 3 4 )\n",
      "Error\n",
      "(p,d,q) = ( 3 3 0 )\n",
      "-1926.193932635873 -1902.2209997314903 -1917.0326705950156\n",
      "(p,d,q) = ( 3 3 1 )\n",
      "-2275.6782580135955 -2246.9107385283364 -2264.684743564567\n",
      "(p,d,q) = ( 3 3 2 )\n"
     ]
    },
    {
     "name": "stderr",
     "output_type": "stream",
     "text": [
      "C:\\Users\\HoT\\Anaconda3_2\\lib\\site-packages\\statsmodels\\base\\model.py:496: ConvergenceWarning: Maximum Likelihood optimization failed to converge. Check mle_retvals\n",
      "  \"Check mle_retvals\", ConvergenceWarning)\n"
     ]
    },
    {
     "name": "stdout",
     "output_type": "stream",
     "text": [
      "-2342.1152776854965 -2308.553171619361 -2329.2895108282964\n",
      "(p,d,q) = ( 3 3 3 )\n"
     ]
    },
    {
     "name": "stderr",
     "output_type": "stream",
     "text": [
      "C:\\Users\\HoT\\Anaconda3_2\\lib\\site-packages\\statsmodels\\base\\model.py:496: ConvergenceWarning: Maximum Likelihood optimization failed to converge. Check mle_retvals\n",
      "  \"Check mle_retvals\", ConvergenceWarning)\n"
     ]
    },
    {
     "name": "stdout",
     "output_type": "stream",
     "text": [
      "-2366.7230560319053 -2328.3663633848932 -2352.0650367665335\n",
      "(p,d,q) = ( 3 3 4 )\n",
      "Error\n",
      "(p,d,q) = ( 4 3 0 )\n",
      "-2155.400911983585 -2126.633392498326 -2144.4073975345564\n",
      "(p,d,q) = ( 4 3 1 )\n",
      "-2156.1316161775753 -2122.5695101114397 -2143.3058493203753\n",
      "(p,d,q) = ( 4 3 2 )\n"
     ]
    },
    {
     "name": "stderr",
     "output_type": "stream",
     "text": [
      "C:\\Users\\HoT\\Anaconda3_2\\lib\\site-packages\\statsmodels\\base\\model.py:496: ConvergenceWarning: Maximum Likelihood optimization failed to converge. Check mle_retvals\n",
      "  \"Check mle_retvals\", ConvergenceWarning)\n"
     ]
    },
    {
     "name": "stdout",
     "output_type": "stream",
     "text": [
      "-2378.990811330143 -2340.634118683131 -2364.332792064771\n",
      "(p,d,q) = ( 4 3 3 )\n"
     ]
    },
    {
     "name": "stderr",
     "output_type": "stream",
     "text": [
      "C:\\Users\\HoT\\Anaconda3_2\\lib\\site-packages\\statsmodels\\base\\model.py:496: ConvergenceWarning: Maximum Likelihood optimization failed to converge. Check mle_retvals\n",
      "  \"Check mle_retvals\", ConvergenceWarning)\n"
     ]
    },
    {
     "name": "stdout",
     "output_type": "stream",
     "text": [
      "-2375.6777903479774 -2332.526511120089 -2359.187518674434\n",
      "(p,d,q) = ( 4 3 4 )\n"
     ]
    },
    {
     "name": "stderr",
     "output_type": "stream",
     "text": [
      "C:\\Users\\HoT\\Anaconda3_2\\lib\\site-packages\\statsmodels\\base\\model.py:496: ConvergenceWarning: Maximum Likelihood optimization failed to converge. Check mle_retvals\n",
      "  \"Check mle_retvals\", ConvergenceWarning)\n"
     ]
    },
    {
     "name": "stdout",
     "output_type": "stream",
     "text": [
      "-2525.2623577633053 -2477.31649195454 -2506.9398336815907\n",
      "(p,d,q) = ( 0 4 0 )\n",
      "-574.277860941146 -564.6909286759859 -570.6140157915397\n",
      "(p,d,q) = ( 0 4 1 )\n",
      "-1547.4142738261166 -1533.0338754283766 -1541.9185061017074\n",
      "(p,d,q) = ( 0 4 2 )\n",
      "Error\n",
      "(p,d,q) = ( 0 4 3 )\n",
      "Error\n",
      "(p,d,q) = ( 0 4 4 )\n",
      "Error\n",
      "(p,d,q) = ( 1 4 0 )\n",
      "-1153.5700516240572 -1139.1896532263172 -1148.074283899648\n",
      "(p,d,q) = ( 1 4 1 )\n",
      "Error\n",
      "(p,d,q) = ( 1 4 2 )\n",
      "Error\n",
      "(p,d,q) = ( 1 4 3 )\n",
      "Error\n",
      "(p,d,q) = ( 1 4 4 )\n",
      "Error\n",
      "(p,d,q) = ( 2 4 0 )\n",
      "-1541.2126484568003 -1522.0387839264802 -1533.8849581575878\n",
      "(p,d,q) = ( 2 4 1 )\n",
      "-1856.8236508555788 -1832.8563201926788 -1847.6640379815633\n",
      "(p,d,q) = ( 2 4 2 )\n",
      "Error\n",
      "(p,d,q) = ( 2 4 3 )\n",
      "Error\n",
      "(p,d,q) = ( 2 4 4 )\n",
      "Error\n",
      "(p,d,q) = ( 3 4 0 )\n",
      "-1539.3028531500072 -1515.3355224871073 -1530.1432402759917\n",
      "(p,d,q) = ( 3 4 1 )\n",
      "-1863.6145827518108 -1834.8537859563307 -1852.6230473029923\n",
      "(p,d,q) = ( 3 4 2 )\n",
      "Error\n",
      "(p,d,q) = ( 3 4 3 )\n",
      "Error\n",
      "(p,d,q) = ( 3 4 4 )\n",
      "Error\n",
      "(p,d,q) = ( 4 4 0 )\n",
      "-1602.6547960327994 -1573.8939992373193 -1591.663260583981\n",
      "(p,d,q) = ( 4 4 1 )\n",
      "-2050.266558851488 -2016.7122959234277 -2037.4431008278661\n",
      "(p,d,q) = ( 4 4 2 )\n",
      "Error\n",
      "(p,d,q) = ( 4 4 3 )\n",
      "Error\n",
      "(p,d,q) = ( 4 4 4 )\n",
      "Error\n"
     ]
    }
   ],
   "source": [
    "for i in range(1,5):\n",
    "    for j in range(0,5):\n",
    "        for k in range(0,5):\n",
    "            print(\"(p,d,q) = (\",j,i,k,\")\")\n",
    "            try:\n",
    "                arma = sm.tsa.ARMA(trend.diff(periods=i).dropna(), (j,k)).fit(disp=False)\n",
    "                print(arma.aic, arma.bic, arma.hqic)\n",
    "            except:\n",
    "                print('Error')"
   ]
  },
  {
   "cell_type": "code",
   "execution_count": 34,
   "metadata": {
    "collapsed": true
   },
   "outputs": [],
   "source": [
    "# The best ARIMA model is (0,2,0)"
   ]
  },
  {
   "cell_type": "code",
   "execution_count": 35,
   "metadata": {},
   "outputs": [
    {
     "name": "stdout",
     "output_type": "stream",
     "text": [
      "-800.0018707386648 -790.4104591883178 -796.3367071024701\n"
     ]
    }
   ],
   "source": [
    "arma = sm.tsa.ARMA(trend.diff(periods=2).dropna(), (0,0)).fit(disp=False)\n",
    "print(arma.aic, arma.bic, arma.hqic)"
   ]
  },
  {
   "cell_type": "code",
   "execution_count": 36,
   "metadata": {
    "collapsed": true
   },
   "outputs": [],
   "source": [
    "# Normal Test for the residuals"
   ]
  },
  {
   "cell_type": "code",
   "execution_count": 37,
   "metadata": {},
   "outputs": [
    {
     "data": {
      "text/plain": [
       "NormaltestResult(statistic=22.215828538372666, pvalue=1.499319286017518e-05)"
      ]
     },
     "execution_count": 37,
     "metadata": {},
     "output_type": "execute_result"
    }
   ],
   "source": [
    "from scipy import stats\n",
    "stats.normaltest(arma.resid)"
   ]
  },
  {
   "cell_type": "code",
   "execution_count": 38,
   "metadata": {
    "collapsed": true
   },
   "outputs": [],
   "source": [
    "# QQ plot for the residuals"
   ]
  },
  {
   "cell_type": "code",
   "execution_count": 39,
   "metadata": {
    "collapsed": true
   },
   "outputs": [],
   "source": [
    "import statsmodels.api as sm"
   ]
  },
  {
   "cell_type": "code",
   "execution_count": 40,
   "metadata": {},
   "outputs": [
    {
     "data": {
      "image/png": "[encoded data removed]",
      "text/plain": [
       "<matplotlib.figure.Figure at 0x25b1524ea58>"
      ]
     },
     "metadata": {},
     "output_type": "display_data"
    }
   ],
   "source": [
    "sm.qqplot(arma.resid,line='s')\n",
    "plt.xlabel('Theoretical Quantiles')\n",
    "plt.ylabel('Sample quantiles')\n",
    "plt.show()"
   ]
  }
 ],
 "metadata": {
  "kernelspec": {
   "display_name": "Python 3",
   "language": "python",
   "name": "python3"
  },
  "language_info": {
   "codemirror_mode": {
    "name": "ipython",
    "version": 3
   },
   "file_extension": ".py",
   "mimetype": "text/x-python",
   "name": "python",
   "nbconvert_exporter": "python",
   "pygments_lexer": "ipython3",
   "version": "3.6.3"
  }
 },
 "nbformat": 4,
 "nbformat_minor": 2
}
