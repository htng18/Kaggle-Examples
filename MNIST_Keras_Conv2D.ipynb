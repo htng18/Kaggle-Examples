{
 "cells": [
  {
   "cell_type": "markdown",
   "metadata": {},
   "source": [
    "# MNIST - Keras: Convolutional Layers"
   ]
  },
  {
   "cell_type": "code",
   "execution_count": 1,
   "metadata": {
    "collapsed": true
   },
   "outputs": [],
   "source": [
    "# We study to classify the MNIST digits by using Keras convolutional layers.\n",
    "#\n",
    "# We build a model with three convolutional layers (conv2D) and maxpooling2D\n",
    "# between the convolutional layers. Dropout layers are added to avoid\n",
    "# over-fitting. The core layers are used as the two last layers in the\n",
    "# network.\n",
    "# \n",
    "# Here the resulting accuracy ~0.99 is much higher than that using core layers.\n",
    "#\n",
    "# The data set can be downloaded from kaggle website as follows:\n",
    "# https://www.kaggle.com/apallekonda/keras-mnist"
   ]
  },
  {
   "cell_type": "code",
   "execution_count": 2,
   "metadata": {
    "collapsed": true
   },
   "outputs": [],
   "source": [
    "import numpy as np\n",
    "import pandas as pd"
   ]
  },
  {
   "cell_type": "code",
   "execution_count": 3,
   "metadata": {
    "collapsed": true
   },
   "outputs": [],
   "source": [
    "data=np.load('mnist.npz')"
   ]
  },
  {
   "cell_type": "code",
   "execution_count": 4,
   "metadata": {
    "collapsed": true
   },
   "outputs": [],
   "source": [
    "y_train=data.f.y_train\n",
    "y_test=data.f.y_test\n",
    "X_train=data.f.x_train\n",
    "X_test=data.f.x_test"
   ]
  },
  {
   "cell_type": "code",
   "execution_count": 5,
   "metadata": {},
   "outputs": [
    {
     "name": "stdout",
     "output_type": "stream",
     "text": [
      "(60000, 28, 28, 1) (10000, 28, 28, 1)\n"
     ]
    }
   ],
   "source": [
    "X_train=X_train.reshape(-1,28,28,1)\n",
    "X_test=X_test.reshape(-1,28,28,1)\n",
    "print(X_train.shape,X_test.shape)"
   ]
  },
  {
   "cell_type": "code",
   "execution_count": 6,
   "metadata": {
    "collapsed": true
   },
   "outputs": [],
   "source": [
    "X_train=X_train.astype('float32')\n",
    "X_test=X_test.astype('float32')\n",
    "X_train=X_train/255.0\n",
    "X_test=X_test/255.0"
   ]
  },
  {
   "cell_type": "code",
   "execution_count": 7,
   "metadata": {},
   "outputs": [
    {
     "name": "stderr",
     "output_type": "stream",
     "text": [
      "C:\\Users\\HoT\\Anaconda3_2\\lib\\site-packages\\h5py\\__init__.py:34: FutureWarning: Conversion of the second argument of issubdtype from `float` to `np.floating` is deprecated. In future, it will be treated as `np.float64 == np.dtype(float).type`.\n",
      "  from ._conv import register_converters as _register_converters\n",
      "Using TensorFlow backend.\n"
     ]
    }
   ],
   "source": [
    "# The label set is required to transform as the one-hot encoding form\n",
    "from keras.utils import to_categorical\n",
    "y_train=to_categorical(y_train)\n",
    "y_test=to_categorical(y_test)"
   ]
  },
  {
   "cell_type": "code",
   "execution_count": 8,
   "metadata": {
    "collapsed": true
   },
   "outputs": [],
   "source": [
    "from sklearn.model_selection import train_test_split\n",
    "X_train,X_valid,y_train,y_valid = train_test_split(X_train, y_train, test_size=0.2, random_state=21)"
   ]
  },
  {
   "cell_type": "code",
   "execution_count": 9,
   "metadata": {
    "collapsed": true
   },
   "outputs": [],
   "source": [
    "from keras.layers import Dense, Flatten, Conv2D, MaxPooling2D, Dropout\n",
    "from keras.models import Sequential\n",
    "#from keras.layers.advanced_activations import LeakyReLU"
   ]
  },
  {
   "cell_type": "markdown",
   "metadata": {},
   "source": [
    "# Model"
   ]
  },
  {
   "cell_type": "code",
   "execution_count": 10,
   "metadata": {
    "collapsed": true
   },
   "outputs": [],
   "source": [
    "model=Sequential()\n",
    "model.add(Conv2D(32,kernel_size=(3,3),activation='relu',kernel_initializer='glorot_normal',\n",
    "                bias_initializer='zeros',padding='same',input_shape=(28,28,1)))\n",
    "model.add(MaxPooling2D(pool_size=(2,2),padding='same'))\n",
    "model.add(Dropout(0.25))\n",
    "model.add(Conv2D(64,kernel_size=(3,3),activation='tanh',padding='same',input_shape=(28,28,1)))\n",
    "model.add(MaxPooling2D(pool_size=(2,2),padding='same'))\n",
    "model.add(Dropout(0.25))\n",
    "model.add(Conv2D(128,kernel_size=(3,3),activation='relu',padding='same',input_shape=(28,28,1)))\n",
    "model.add(MaxPooling2D(pool_size=(2,2),padding='same'))\n",
    "model.add(Dropout(0.25))\n",
    "model.add(Flatten())\n",
    "model.add(Dense(64,activation='tanh'))\n",
    "model.add(Dropout(0.3))\n",
    "model.add(Dense(10,activation='softmax'))"
   ]
  },
  {
   "cell_type": "code",
   "execution_count": 11,
   "metadata": {},
   "outputs": [
    {
     "name": "stdout",
     "output_type": "stream",
     "text": [
      "_________________________________________________________________\n",
      "Layer (type)                 Output Shape              Param #   \n",
      "=================================================================\n",
      "conv2d_1 (Conv2D)            (None, 28, 28, 32)        320       \n",
      "_________________________________________________________________\n",
      "max_pooling2d_1 (MaxPooling2 (None, 14, 14, 32)        0         \n",
      "_________________________________________________________________\n",
      "dropout_1 (Dropout)          (None, 14, 14, 32)        0         \n",
      "_________________________________________________________________\n",
      "conv2d_2 (Conv2D)            (None, 14, 14, 64)        18496     \n",
      "_________________________________________________________________\n",
      "max_pooling2d_2 (MaxPooling2 (None, 7, 7, 64)          0         \n",
      "_________________________________________________________________\n",
      "dropout_2 (Dropout)          (None, 7, 7, 64)          0         \n",
      "_________________________________________________________________\n",
      "conv2d_3 (Conv2D)            (None, 7, 7, 128)         73856     \n",
      "_________________________________________________________________\n",
      "max_pooling2d_3 (MaxPooling2 (None, 4, 4, 128)         0         \n",
      "_________________________________________________________________\n",
      "dropout_3 (Dropout)          (None, 4, 4, 128)         0         \n",
      "_________________________________________________________________\n",
      "flatten_1 (Flatten)          (None, 2048)              0         \n",
      "_________________________________________________________________\n",
      "dense_1 (Dense)              (None, 64)                131136    \n",
      "_________________________________________________________________\n",
      "dropout_4 (Dropout)          (None, 64)                0         \n",
      "_________________________________________________________________\n",
      "dense_2 (Dense)              (None, 10)                650       \n",
      "=================================================================\n",
      "Total params: 224,458\n",
      "Trainable params: 224,458\n",
      "Non-trainable params: 0\n",
      "_________________________________________________________________\n"
     ]
    }
   ],
   "source": [
    "model.summary()"
   ]
  },
  {
   "cell_type": "code",
   "execution_count": 12,
   "metadata": {
    "collapsed": true
   },
   "outputs": [],
   "source": [
    "from keras.callbacks import EarlyStopping\n",
    "early_stopping_monitor = EarlyStopping(patience=3)"
   ]
  },
  {
   "cell_type": "code",
   "execution_count": 13,
   "metadata": {
    "collapsed": true
   },
   "outputs": [],
   "source": [
    "model.compile(optimizer='adam',loss='categorical_crossentropy',metrics=['accuracy'])"
   ]
  },
  {
   "cell_type": "code",
   "execution_count": 14,
   "metadata": {},
   "outputs": [
    {
     "name": "stdout",
     "output_type": "stream",
     "text": [
      "Train on 48000 samples, validate on 12000 samples\n",
      "Epoch 1/50\n",
      "48000/48000 [==============================] - 50s 1ms/step - loss: 0.3263 - acc: 0.8979 - val_loss: 0.0751 - val_acc: 0.9761\n",
      "Epoch 2/50\n",
      "48000/48000 [==============================] - 49s 1ms/step - loss: 0.0968 - acc: 0.9710 - val_loss: 0.0570 - val_acc: 0.9821\n",
      "Epoch 3/50\n",
      "48000/48000 [==============================] - 50s 1ms/step - loss: 0.0718 - acc: 0.9789 - val_loss: 0.0482 - val_acc: 0.9850\n",
      "Epoch 4/50\n",
      "48000/48000 [==============================] - 50s 1ms/step - loss: 0.0579 - acc: 0.9828 - val_loss: 0.0356 - val_acc: 0.9890\n",
      "Epoch 5/50\n",
      "48000/48000 [==============================] - 50s 1ms/step - loss: 0.0524 - acc: 0.9838 - val_loss: 0.0325 - val_acc: 0.9899\n",
      "Epoch 6/50\n",
      "48000/48000 [==============================] - 50s 1ms/step - loss: 0.0445 - acc: 0.9860 - val_loss: 0.0294 - val_acc: 0.9911\n",
      "Epoch 7/50\n",
      "48000/48000 [==============================] - 50s 1ms/step - loss: 0.0414 - acc: 0.9876 - val_loss: 0.0335 - val_acc: 0.9908\n",
      "Epoch 8/50\n",
      "48000/48000 [==============================] - 50s 1ms/step - loss: 0.0380 - acc: 0.9881 - val_loss: 0.0283 - val_acc: 0.9910\n",
      "Epoch 9/50\n",
      "48000/48000 [==============================] - 50s 1ms/step - loss: 0.0352 - acc: 0.9895 - val_loss: 0.0316 - val_acc: 0.9908\n",
      "Epoch 10/50\n",
      "48000/48000 [==============================] - 49s 1ms/step - loss: 0.0343 - acc: 0.9893 - val_loss: 0.0261 - val_acc: 0.9924\n",
      "Epoch 11/50\n",
      "48000/48000 [==============================] - 51s 1ms/step - loss: 0.0312 - acc: 0.9901 - val_loss: 0.0281 - val_acc: 0.9917\n",
      "Epoch 12/50\n",
      "48000/48000 [==============================] - 51s 1ms/step - loss: 0.0307 - acc: 0.9911 - val_loss: 0.0285 - val_acc: 0.9912\n",
      "Epoch 13/50\n",
      "48000/48000 [==============================] - 51s 1ms/step - loss: 0.0282 - acc: 0.9911 - val_loss: 0.0323 - val_acc: 0.9907\n"
     ]
    },
    {
     "data": {
      "text/plain": [
       "<keras.callbacks.History at 0x143d4998320>"
      ]
     },
     "execution_count": 14,
     "metadata": {},
     "output_type": "execute_result"
    }
   ],
   "source": [
    "model.fit(X_train,y_train,epochs=50,batch_size=128, verbose=1, callbacks = [early_stopping_monitor],validation_data=(X_valid,y_valid))"
   ]
  },
  {
   "cell_type": "code",
   "execution_count": 15,
   "metadata": {},
   "outputs": [
    {
     "name": "stdout",
     "output_type": "stream",
     "text": [
      "10000/10000 [==============================] - 3s 346us/step\n"
     ]
    },
    {
     "data": {
      "text/plain": [
       "[0.023568003817554563, 0.9929]"
      ]
     },
     "execution_count": 15,
     "metadata": {},
     "output_type": "execute_result"
    }
   ],
   "source": [
    "model.evaluate(X_test,y_test)"
   ]
  }
 ],
 "metadata": {
  "kernelspec": {
   "display_name": "Python 3",
   "language": "python",
   "name": "python3"
  },
  "language_info": {
   "codemirror_mode": {
    "name": "ipython",
    "version": 3
   },
   "file_extension": ".py",
   "mimetype": "text/x-python",
   "name": "python",
   "nbconvert_exporter": "python",
   "pygments_lexer": "ipython3",
   "version": "3.6.3"
  }
 },
 "nbformat": 4,
 "nbformat_minor": 2
}
